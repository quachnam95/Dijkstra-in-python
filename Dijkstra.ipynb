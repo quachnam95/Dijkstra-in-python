{
  "nbformat": 4,
  "nbformat_minor": 0,
  "metadata": {
    "colab": {
      "name": "Dijkstra.ipynb",
      "provenance": [],
      "private_outputs": true,
      "collapsed_sections": []
    },
    "kernelspec": {
      "name": "python3",
      "display_name": "Python 3"
    }
  },
  "cells": [
    {
      "cell_type": "code",
      "metadata": {
        "id": "jlEMs4SlLLSI",
        "colab_type": "code",
        "colab": {}
      },
      "source": [
        "from collections import defaultdict\n",
        "from heapq import *\n",
        "\n",
        "def dijkstra(edges, f, t):\n",
        "     #directed graph edges, source points, target points\n",
        "    g = defaultdict(list)  # construct adjacency matrix \n",
        "    for l,r,c in edges:\n",
        "        g[l].append((c,r))\n",
        "#     {'A': [(7, 'B'), (5, 'D')], \n",
        "#      'B': [(8, 'C'), (9, 'D'), (7, 'E')], \n",
        "#      'C': [(5, 'E')], \n",
        "#      'D': [(15, 'E'), (6, 'F')], \n",
        "#      'E': [(8, 'F'), (9, 'G')], \n",
        "#      'F': [(11, 'G')]})\n",
        "    \n",
        "    q = [(0, f, ())]  # (The shortest distance from the source point to the current point, the current point, the corresponding path)\n",
        "    seen = set()   # Set S, the set of vertices that have found the shortest path \n",
        "    mins = {}  # Source point to each of T The shortest path length of the vertex, auxiliary vector D \n",
        "    while q:\n",
        "        cost, vk, path = heappop(q)  # the shortest distance cost from the source point to the vertex in the current T, the corresponding vertex is vk\n",
        "        if vk not in seen:  # Make sure that vk is not in \n",
        "            seen.add(vk)  # Add vk to S, that is, exit T\n",
        "            path = (vk, path)  # Record the path from the source point to vk\n",
        "            if vk == t:  # If vk is the target point, just return directly, that is the shortest distance and the corresponding path \n",
        "                return (cost, path)\n",
        "\n",
        "            # If vk is not the target point, check whether vk can reach other vertices \n",
        "            for c, vj in g.get(vk, ()):  # vk is returned when the degree is 0 ()\n",
        "                if vj not in seen:  # Only need to check all the vertices that vk can reach are vj \n",
        "                    prev = mins.get(vj, None)  # D[j], The shortest path from the source point to vj, if it does not exist, return None\n",
        "                    next_ = cost + c  # D[vk] + (vk, vj) arc length h\n",
        "                    if prev is None or next_ < prev:  # If the path is v0 -...- vk -vj weight is smaller than path v0-vj \n",
        "                        mins[vj] = next_  # update source point to the shortest distance in T\n",
        "                        heappush(q, (next_, vj, path))  # add heap \n",
        "    return float(\"inf\")\n",
        "\n",
        "# test\n",
        "edges = [\n",
        "    (\"A\", \"B\", 7),\n",
        "    (\"A\", \"D\", 5),\n",
        "    (\"B\", \"C\", 8),\n",
        "    (\"B\", \"D\", 9),\n",
        "    (\"B\", \"E\", 7),\n",
        "    (\"C\", \"E\", 5),\n",
        "    (\"D\", \"E\", 15),\n",
        "    (\"D\", \"F\", 6),\n",
        "    (\"E\", \"F\", 8),\n",
        "    (\"E\", \"G\", 9),\n",
        "    (\"F\", \"G\", 11)\n",
        "]\n",
        "\n",
        "print(\"=== Dijkstra ===\")\n",
        "print(edges)\n",
        "print(\"A -> E:\")\n",
        "print(dijkstra(edges, \"A\", \"E\"))\n",
        "print(\"F -> G:\")\n",
        "print(dijkstra(edges, \"F\", \"G\"))"
      ],
      "execution_count": 0,
      "outputs": []
    }
  ]
}